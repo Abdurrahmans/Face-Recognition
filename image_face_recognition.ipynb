{
 "cells": [
  {
   "cell_type": "code",
   "execution_count": 1,
   "metadata": {},
   "outputs": [],
   "source": [
    "import cv2\n",
    "import face_recognition"
   ]
  },
  {
   "cell_type": "code",
   "execution_count": 2,
   "metadata": {},
   "outputs": [],
   "source": [
    "orginal_image = cv2.imread('images/testing/th.jpg')"
   ]
  },
  {
   "cell_type": "code",
   "execution_count": 3,
   "metadata": {},
   "outputs": [],
   "source": [
    "modi_img = face_recognition.load_image_file('images/samples/modi.jpg')\n",
    "modi_img_encoding = face_recognition.face_encodings(modi_img)[0]\n",
    "\n",
    "trupm_img = face_recognition.load_image_file('images/samples/trump.jpg')\n",
    "trump_img_encoding = face_recognition.face_encodings(trupm_img)[0]"
   ]
  },
  {
   "cell_type": "code",
   "execution_count": 4,
   "metadata": {},
   "outputs": [],
   "source": [
    "known_face_encoding = [modi_img_encoding,trump_img_encoding]\n",
    "known_face_name = ['Narendra modi','Donald Trump']"
   ]
  },
  {
   "cell_type": "code",
   "execution_count": 5,
   "metadata": {},
   "outputs": [],
   "source": [
    "img_to_recognize  = face_recognition.load_image_file('images/testing/th.jpg')\n",
    "all_face_location = face_recognition.face_locations(img_to_recognize,model='hog')\n",
    "all_face_encoding = face_recognition.face_encodings(img_to_recognize,all_face_location)"
   ]
  },
  {
   "cell_type": "code",
   "execution_count": 7,
   "metadata": {},
   "outputs": [
    {
     "data": {
      "text/plain": [
       "-1"
      ]
     },
     "execution_count": 7,
     "metadata": {},
     "output_type": "execute_result"
    }
   ],
   "source": [
    "for current_face_location,current_face_encoding in zip(all_face_location,all_face_encoding):\n",
    "    top_pos,right_pos,bottom_pos,left_pos = current_face_location\n",
    "    \n",
    "    all_matches = face_recognition.compare_faces(known_face_encoding,current_face_encoding)\n",
    "    name_of_person = 'Unknown Face'\n",
    "    if True in all_matches:\n",
    "        first_match_index = all_matches.index(True)\n",
    "        name_of_person = known_face_name[first_match_index]\n",
    "    cv2.rectangle(orginal_image,(left_pos,top_pos),(right_pos,bottom_pos),(255,0,0),2)  \n",
    "    font = cv2.FONT_HERSHEY_DUPLEX\n",
    "    cv2.putText(orginal_image,name_of_person,(left_pos,top_pos-10),font,0.6,(0,255,0))\n",
    "    \n",
    "cv2.imshow('identification image',orginal_image)\n",
    "cv2.waitKey(0)"
   ]
  },
  {
   "cell_type": "code",
   "execution_count": null,
   "metadata": {},
   "outputs": [],
   "source": []
  },
  {
   "cell_type": "code",
   "execution_count": null,
   "metadata": {},
   "outputs": [],
   "source": []
  },
  {
   "cell_type": "code",
   "execution_count": null,
   "metadata": {},
   "outputs": [],
   "source": []
  }
 ],
 "metadata": {
  "kernelspec": {
   "display_name": "Python 3",
   "language": "python",
   "name": "python3"
  },
  "language_info": {
   "codemirror_mode": {
    "name": "ipython",
    "version": 3
   },
   "file_extension": ".py",
   "mimetype": "text/x-python",
   "name": "python",
   "nbconvert_exporter": "python",
   "pygments_lexer": "ipython3",
   "version": "3.8.3"
  }
 },
 "nbformat": 4,
 "nbformat_minor": 4
}
